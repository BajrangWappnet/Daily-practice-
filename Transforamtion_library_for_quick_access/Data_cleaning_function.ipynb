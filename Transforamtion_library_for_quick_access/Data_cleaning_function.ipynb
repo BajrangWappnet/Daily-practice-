{
 "cells": [
  {
   "attachments": {},
   "cell_type": "markdown",
   "metadata": {},
   "source": [
    "# DATA Cleaning"
   ]
  },
  {
   "attachments": {},
   "cell_type": "markdown",
   "metadata": {},
   "source": [
    "## Missing Value"
   ]
  },
  {
   "attachments": {},
   "cell_type": "markdown",
   "metadata": {},
   "source": [
    "attribute has some missing values, so let’s fix this. You have three options:\n",
    "* Get rid of the corresponding districts.\n",
    "* Get rid of the whole attribute.\n",
    "* Set the values to some value (zero, the mean, the median, etc.).\n",
    "\n",
    "You can accomplish these easily using DataFrame’s dropna(), drop(), and fillna()\n",
    "methods:\n"
   ]
  },
  {
   "cell_type": "code",
   "execution_count": null,
   "metadata": {},
   "outputs": [],
   "source": [
    "# Examples\n",
    "\n",
    "data.dropna(subset=[\"column_name\"]) # option 1\n",
    "data.drop(\"column_name\", axis=1) # option 2\n",
    "median = data[\"column_name\"].median()\n",
    "data[\"column_name\"].fillna(median) # option 3"
   ]
  },
  {
   "attachments": {},
   "cell_type": "markdown",
   "metadata": {},
   "source": [
    "### Scikit Learn to handle  missing value"
   ]
  },
  {
   "attachments": {},
   "cell_type": "markdown",
   "metadata": {},
   "source": [
    "Imputer. Here is\n",
    "how to use it. First, you need to create an Imputer instance, specifying that you want\n",
    "to replace each attribute’s missing values with the median of that attribute:\n"
   ]
  },
  {
   "cell_type": "code",
   "execution_count": null,
   "metadata": {},
   "outputs": [],
   "source": [
    "from sklearnstrategy= \"mean\".impute import SimpleImputer\n",
    "\n",
    "imputer = SimpleImputer(strategy= \"mean\")"
   ]
  },
  {
   "attachments": {},
   "cell_type": "markdown",
   "metadata": {},
   "source": [
    "As Simpleimputer do not work on categorical values so remove them and then using fit() method to fit it"
   ]
  },
  {
   "cell_type": "code",
   "execution_count": null,
   "metadata": {},
   "outputs": [],
   "source": [
    "# Training Imputer using data set\n",
    "#Example\n",
    "\n",
    "derived_data =  original_data.drop(\"columnName_with_categorical_values\", axis=1)\n",
    "\n",
    "\n",
    "#Then Fit It using Fit()method\n",
    "\n",
    "imputer.fit(derived_data)   # You can  use original data if that data do not have any categorical value "
   ]
  },
  {
   "attachments": {},
   "cell_type": "markdown",
   "metadata": {},
   "source": [
    "## Transforming data using SimpleImputer"
   ]
  },
  {
   "cell_type": "code",
   "execution_count": null,
   "metadata": {},
   "outputs": [],
   "source": [
    "data_transformed = imputer.transform(data_name)  # Data name , the data frame which you want to transform based on trained Imputer "
   ]
  },
  {
   "attachments": {},
   "cell_type": "markdown",
   "metadata": {},
   "source": [
    "### To pull it back in Pandas DataFrame "
   ]
  },
  {
   "cell_type": "code",
   "execution_count": null,
   "metadata": {},
   "outputs": [],
   "source": [
    "import pandas as pd\n",
    "data_frame_name = pd.DataFrame(data_transformed,  columns=main_data.columns)"
   ]
  }
 ],
 "metadata": {
  "kernelspec": {
   "display_name": "Python 3",
   "language": "python",
   "name": "python3"
  },
  "language_info": {
   "codemirror_mode": {
    "name": "ipython",
    "version": 3
   },
   "file_extension": ".py",
   "mimetype": "text/x-python",
   "name": "python",
   "nbconvert_exporter": "python",
   "pygments_lexer": "ipython3",
   "version": "3.10.4"
  },
  "orig_nbformat": 4,
  "vscode": {
   "interpreter": {
    "hash": "27f6fea6f47ae512550f0b8facdbd035a93e1dd89633f7bf2dd00a2502c71d0d"
   }
  }
 },
 "nbformat": 4,
 "nbformat_minor": 2
}
