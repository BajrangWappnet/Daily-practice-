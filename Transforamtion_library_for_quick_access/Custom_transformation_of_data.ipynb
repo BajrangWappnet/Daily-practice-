{
 "cells": [
  {
   "attachments": {},
   "cell_type": "markdown",
   "metadata": {},
   "source": [
    "# Custom Transformers"
   ]
  },
  {
   "attachments": {},
   "cell_type": "markdown",
   "metadata": {},
   "source": [
    "Although Scikit-Learn provides many useful transformers, you will need to write\n",
    "your own for tasks such as custom cleanup operations or combining specific\n",
    "attributes. You will want your transformer to work seamlessly with Scikit-Learn func‐\n",
    "tionalities (such as pipelines), and since Scikit-Learn relies on duck typing (not inher‐\n",
    "itance), all you need is to create a class and implement three methods: fit()\n",
    "(returning self), transform(), and fit_transform(). You can get the last one for\n",
    "free by simply adding TransformerMixin as a base class. Also, if you add BaseEstima\n",
    "tor as a base class (and avoid *args and **kargs in your constructor) you will get\n",
    "two extra methods (get_params() and set_params()) that will be useful for auto‐\n",
    "matic hyperparameter tuning. For example, here is a small transformer class that adds\n",
    "the combined attributes we discussed earlier:\n"
   ]
  },
  {
   "cell_type": "code",
   "execution_count": null,
   "metadata": {},
   "outputs": [],
   "source": [
    "from sklearn.base import BaseEstimator, TransformerMixin\n",
    "\"\"\"\n",
    "Where,\n",
    "housing is data set\n",
    "Here rooms_ix, bedrooms_ix, population_ix, household_ix  are column names where the operation is perforemed \"\"\"\n",
    "\n",
    "\n",
    "rooms_ix, bedrooms_ix, population_ix, household_ix = 3, 4, 5, 6\n",
    "class CombinedAttributesAdder(BaseEstimator, TransformerMixin):\n",
    "    def __init__(self, add_bedrooms_per_room = True): # no *args or **kargs\n",
    "        self.add_bedrooms_per_room = add_bedrooms_per_room\n",
    "    def fit(self, X, y=None):\n",
    "        return self # nothing else to do\n",
    "    def transform(self, X, y=None):\n",
    "        rooms_per_household = X[:, rooms_ix] / X[:, household_ix]\n",
    "        population_per_household = X[:, population_ix] / X[:, household_ix]\n",
    "        if self.add_bedrooms_per_room:\n",
    "            bedrooms_per_room = X[:, bedrooms_ix] / X[:, rooms_ix]\n",
    "            return np.c_[X, rooms_per_household, population_per_household,bedrooms_per_room]\n",
    "        else:\n",
    "            return np.c_[X, rooms_per_household, population_per_household]\n",
    "\n",
    "attr_adder = CombinedAttributesAdder(add_bedrooms_per_room=False)\n",
    "housing_extra_attribs = attr_adder.transform(housing.values)"
   ]
  }
 ],
 "metadata": {
  "language_info": {
   "name": "python"
  },
  "orig_nbformat": 4
 },
 "nbformat": 4,
 "nbformat_minor": 2
}
