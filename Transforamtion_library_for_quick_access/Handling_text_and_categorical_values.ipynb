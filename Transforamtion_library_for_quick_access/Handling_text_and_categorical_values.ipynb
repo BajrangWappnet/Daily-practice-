{
 "cells": [
  {
   "attachments": {},
   "cell_type": "markdown",
   "metadata": {},
   "source": [
    "# Handling Text or Categorical Attributes"
   ]
  },
  {
   "attachments": {},
   "cell_type": "markdown",
   "metadata": {},
   "source": [
    "Scikit-Learn provides a transformer for converting text labels  into  called LabelEncoder:\n"
   ]
  },
  {
   "cell_type": "code",
   "execution_count": 1,
   "metadata": {},
   "outputs": [],
   "source": [
    "from sklearn.preprocessing import LabelEncoder\n",
    "\n",
    "encoder = LabelEncoder()\n",
    "\n",
    "mainData_categorical = mainData[\"coloumn_with_categoircal_attributes\"]\n",
    "mainData_categorical_encoded = encoder.fit_transform(mainData_categorical)\n",
    "mainData_categorical_encoded\n",
    " \"\"\"This will give data in array form for that categorical column \n",
    "  with values of 1,2,3, etc \"\"\" "
   ]
  },
  {
   "attachments": {},
   "cell_type": "markdown",
   "metadata": {},
   "source": [
    "### To form dataFrame we will use Pandas"
   ]
  },
  {
   "cell_type": "code",
   "execution_count": null,
   "metadata": {},
   "outputs": [],
   "source": [
    "import pandas as pd\n",
    "new_data_frame_name = pd.DataFrame(mainData_categorical_encoded,  columns=main_data.columns)"
   ]
  },
  {
   "attachments": {},
   "cell_type": "markdown",
   "metadata": {},
   "source": [
    "# One Hot Encoding"
   ]
  },
  {
   "attachments": {},
   "cell_type": "markdown",
   "metadata": {},
   "source": [
    "One issue with this representation is that ML algorithms will assume that two nearby\n",
    "values are more similar than two distant values. Obviously this is not the case (for\n",
    "example, categories 0 and 4 are more similar than categories 0 and 1). To fix this\n",
    "issue, a common solution is to create one binary attribute per category:\n",
    "#### Example\n",
    "* one attribute\n",
    "equal to 1 when the category is “<1H OCEAN” (and 0 otherwise), another attribute\n",
    "equal to 1 when the category is “INLAND” (and 0 otherwise), and so on. This is\n",
    "called one-hot encoding, because only one attribute will be equal to 1 (hot), while the\n",
    "others will be 0 (cold).For columns labels"
   ]
  },
  {
   "cell_type": "code",
   "execution_count": null,
   "metadata": {},
   "outputs": [],
   "source": [
    "from sklearn.preprocessing import OneHotEncoder\n",
    "\n",
    "encoder = OneHotEncoder()\n",
    "\n",
    "one_hot_encoded_data = encoder.fit_transform(mainData_categorical_encoded.reshape(-1,1)) \n",
    "one_hot_encoded_data\n",
    "\n",
    "\"\"\"\" Return value will be  matrix\"\"\""
   ]
  },
  {
   "attachments": {},
   "cell_type": "markdown",
   "metadata": {},
   "source": [
    "## We can apply both transformations (from text categories to integer categories, then from integer categories to one-hot vectors) in one shot using the LabelBinarizer class:\n",
    ">"
   ]
  },
  {
   "cell_type": "markdown",
   "metadata": {},
   "source": []
  },
  {
   "cell_type": "code",
   "execution_count": null,
   "metadata": {},
   "outputs": [],
   "source": [
    "from sklearn.preprocessing import LabelBinarizer\n",
    "\n",
    "enncoder = LabelBinarizer()\n",
    "one_hot_encoded_data = encoder.fit_transform(mainData_categorical_encoded)\n",
    "one_hot_encoded_data"
   ]
  }
 ],
 "metadata": {
  "kernelspec": {
   "display_name": "Python 3",
   "language": "python",
   "name": "python3"
  },
  "language_info": {
   "codemirror_mode": {
    "name": "ipython",
    "version": 3
   },
   "file_extension": ".py",
   "mimetype": "text/x-python",
   "name": "python",
   "nbconvert_exporter": "python",
   "pygments_lexer": "ipython3",
   "version": "3.10.4"
  },
  "orig_nbformat": 4,
  "vscode": {
   "interpreter": {
    "hash": "27f6fea6f47ae512550f0b8facdbd035a93e1dd89633f7bf2dd00a2502c71d0d"
   }
  }
 },
 "nbformat": 4,
 "nbformat_minor": 2
}
