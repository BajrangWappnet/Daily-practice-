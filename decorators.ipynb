{
 "cells": [
  {
   "attachments": {},
   "cell_type": "markdown",
   "metadata": {},
   "source": [
    "# Decorators"
   ]
  },
  {
   "cell_type": "code",
   "execution_count": 1,
   "metadata": {},
   "outputs": [
    {
     "name": "stdout",
     "output_type": "stream",
     "text": [
      "Hello My name is \n",
      "Elephant\n",
      "I am good animal.\n"
     ]
    }
   ],
   "source": [
    "def animal(name):\n",
    "    def intro():\n",
    "        print(\"Hello My name is \")\n",
    "        name()\n",
    "        print(\"I am good animal.\")\n",
    "    return intro\n",
    "\n",
    "\n",
    "@animal    # Synatac for using decorators\n",
    "def name_of_animal():\n",
    "    print(\"Elephant\")\n",
    "\n",
    "# name_of_animal = animal(name_of_animal)   # This is logic for using decoratorss\n",
    "\n",
    "name_of_animal()"
   ]
  },
  {
   "cell_type": "code",
   "execution_count": null,
   "metadata": {},
   "outputs": [],
   "source": []
  }
 ],
 "metadata": {
  "kernelspec": {
   "display_name": "Python 3",
   "language": "python",
   "name": "python3"
  },
  "language_info": {
   "codemirror_mode": {
    "name": "ipython",
    "version": 3
   },
   "file_extension": ".py",
   "mimetype": "text/x-python",
   "name": "python",
   "nbconvert_exporter": "python",
   "pygments_lexer": "ipython3",
   "version": "3.10.4"
  },
  "orig_nbformat": 4,
  "vscode": {
   "interpreter": {
    "hash": "27f6fea6f47ae512550f0b8facdbd035a93e1dd89633f7bf2dd00a2502c71d0d"
   }
  }
 },
 "nbformat": 4,
 "nbformat_minor": 2
}
