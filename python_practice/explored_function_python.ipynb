{
 "cells": [
  {
   "cell_type": "code",
   "execution_count": 3,
   "metadata": {},
   "outputs": [
    {
     "name": "stdout",
     "output_type": "stream",
     "text": [
      " This is the documentation of the animal function \n",
      "To print the name of the Animals\n",
      "Return the sum of a 'start' value (default: 0) plus an iterable of numbers\n",
      "\n",
      "When the iterable is empty, return the start value.\n",
      "This function is intended specifically for use with numeric values and may\n",
      "reject non-numeric types.\n"
     ]
    }
   ],
   "source": [
    "# Method to read Documnetation of any method using \"__doc__\"\n",
    "\n",
    "def animal(name):\n",
    "    \"\"\" This is the documentation of the animal function \n",
    "To print the name of the Animals\"\"\"\n",
    "    print(f\"Hi my name is {name}\")\n",
    "\n",
    "print(animal.__doc__)   #Using this method to print documentation of any function\n",
    "print(sum.__doc__) # Can be used for built in functions also"
   ]
  },
  {
   "attachments": {},
   "cell_type": "markdown",
   "metadata": {},
   "source": [
    "### Exception Handling"
   ]
  },
  {
   "cell_type": "code",
   "execution_count": 1,
   "metadata": {},
   "outputs": [
    {
     "name": "stdout",
     "output_type": "stream",
     "text": [
      "invalid literal for int() with base 10: 'x'\n",
      "The sum of First number and Third number is 50\n"
     ]
    }
   ],
   "source": [
    "# Exceptional Handling\n",
    "\n",
    "num_1 = 20\n",
    "num_2 = 30\n",
    "num_3 = \"x\"   # Taking wrong value as string to get error while executing\n",
    "\n",
    "try:\n",
    "    print(\"The sum of First number and Third number is \", int(num_1)+int(num_3))\n",
    "\n",
    "except Exception as e:\n",
    "    print(e)\n",
    "print(\"The sum of First number and Third number is\", int(num_1)+int(num_2))\n"
   ]
  },
  {
   "attachments": {},
   "cell_type": "markdown",
   "metadata": {},
   "source": [
    "### Using with block to open filr\n",
    "### Which can handle both open and close of file when reading and manupulating\n",
    "    "
   ]
  },
  {
   "cell_type": "code",
   "execution_count": 4,
   "metadata": {},
   "outputs": [
    {
     "name": "stdout",
     "output_type": "stream",
     "text": [
      "Hello My self Bajrang Ostwal.\n",
      "I am pursuing Btech in CSE.\n",
      "\n"
     ]
    }
   ],
   "source": [
    "with open(\"bajrang.txt\",\"rt\") as file_open:\n",
    "    print(file_open.read())\n",
    "\n",
    "\"\"\" We can use multiple methods like  open(), read(), readlines(), seek(), tell()\"\"\""
   ]
  },
  {
   "attachments": {},
   "cell_type": "markdown",
   "metadata": {},
   "source": [
    "### Lambda function "
   ]
  },
  {
   "cell_type": "code",
   "execution_count": 5,
   "metadata": {},
   "outputs": [
    {
     "name": "stdout",
     "output_type": "stream",
     "text": [
      "[[2, 1], [1, 3], [4, 9]]\n"
     ]
    }
   ],
   "source": [
    "# lambda function is mostly used in ML to limit the use of creating function\n",
    "\n",
    "# Example without lambda function\n",
    "\n",
    "def first(number):\n",
    "    return number[1]\n",
    "\n",
    "number = [[1,3], [4,9 ],[2,1]]\n",
    "number.sort(key=first)\n",
    "print(number)"
   ]
  },
  {
   "cell_type": "code",
   "execution_count": 7,
   "metadata": {},
   "outputs": [
    {
     "name": "stdout",
     "output_type": "stream",
     "text": [
      "[[2, 1], [1, 3], [4, 9]]\n"
     ]
    }
   ],
   "source": [
    "# Example using Lambda function\n",
    "\n",
    "number = [[1,3], [4,9 ],[2,1]]\n",
    "number.sort(key= lambda x: x[1])\n",
    "print(number)"
   ]
  },
  {
   "attachments": {},
   "cell_type": "markdown",
   "metadata": {},
   "source": [
    "### Magic Methods"
   ]
  },
  {
   "cell_type": "code",
   "execution_count": 8,
   "metadata": {},
   "outputs": [
    {
     "name": "stdout",
     "output_type": "stream",
     "text": [
      "['__abs__', '__add__', '__and__', '__bool__', '__ceil__', '__class__', '__delattr__', '__dir__', '__divmod__', '__doc__', '__eq__', '__float__', '__floor__', '__floordiv__', '__format__', '__ge__', '__getattribute__', '__getnewargs__', '__gt__', '__hash__', '__index__', '__init__', '__init_subclass__', '__int__', '__invert__', '__le__', '__lshift__', '__lt__', '__mod__', '__mul__', '__ne__', '__neg__', '__new__', '__or__', '__pos__', '__pow__', '__radd__', '__rand__', '__rdivmod__', '__reduce__', '__reduce_ex__', '__repr__', '__rfloordiv__', '__rlshift__', '__rmod__', '__rmul__', '__ror__', '__round__', '__rpow__', '__rrshift__', '__rshift__', '__rsub__', '__rtruediv__', '__rxor__', '__setattr__', '__sizeof__', '__str__', '__sub__', '__subclasshook__', '__truediv__', '__trunc__', '__xor__', 'as_integer_ratio', 'bit_count', 'bit_length', 'conjugate', 'denominator', 'from_bytes', 'imag', 'numerator', 'real', 'to_bytes']\n"
     ]
    }
   ],
   "source": [
    "\"\"\" Magic Methods are those methods \n",
    "which are not mean to invoked directly\n",
    " by you , but the invocation happen \n",
    "internally from the class on certain action \n",
    "\"\"\"\n",
    "\n",
    "# To get list of magic function present in class we use \"dir()\"\n",
    "\n",
    "print(dir(int))"
   ]
  },
  {
   "cell_type": "code",
   "execution_count": 9,
   "metadata": {},
   "outputs": [
    {
     "name": "stdout",
     "output_type": "stream",
     "text": [
      "10\n",
      "10\n"
     ]
    }
   ],
   "source": [
    "# Example to understand this \n",
    "\"\"\" Like __add__ method is magic method \n",
    "which get called when we add two int using \n",
    "\"+\" operator.\n",
    "\"\"\"\n",
    "\n",
    "num = 5 \n",
    "addition = num + 5\n",
    "print(addition)\n",
    "\n",
    "print(num.__add__(5))\n",
    "\n",
    "# The both syntax will give us answer\n",
    "# However they are not meant to be called directly"
   ]
  },
  {
   "cell_type": "code",
   "execution_count": null,
   "metadata": {},
   "outputs": [],
   "source": []
  }
 ],
 "metadata": {
  "kernelspec": {
   "display_name": "Python 3",
   "language": "python",
   "name": "python3"
  },
  "language_info": {
   "codemirror_mode": {
    "name": "ipython",
    "version": 3
   },
   "file_extension": ".py",
   "mimetype": "text/x-python",
   "name": "python",
   "nbconvert_exporter": "python",
   "pygments_lexer": "ipython3",
   "version": "3.10.4 (tags/v3.10.4:9d38120, Mar 23 2022, 23:13:41) [MSC v.1929 64 bit (AMD64)]"
  },
  "orig_nbformat": 4,
  "vscode": {
   "interpreter": {
    "hash": "27f6fea6f47ae512550f0b8facdbd035a93e1dd89633f7bf2dd00a2502c71d0d"
   }
  }
 },
 "nbformat": 4,
 "nbformat_minor": 2
}
