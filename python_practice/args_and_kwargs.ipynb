{
 "cells": [
  {
   "attachments": {},
   "cell_type": "markdown",
   "metadata": {},
   "source": [
    "# args Implementation\n",
    "### "
   ]
  },
  {
   "cell_type": "code",
   "execution_count": 6,
   "metadata": {},
   "outputs": [
    {
     "name": "stdout",
     "output_type": "stream",
     "text": [
      "Bajrang Ruchika Bhupender Aakash\n",
      "Student.student_name() takes 4 positional arguments but 5 were given\n"
     ]
    }
   ],
   "source": [
    "# Without using *args \n",
    "\n",
    "class Student():\n",
    "\n",
    "    # Creating function which take names as argumnets to print the name\n",
    "\n",
    "    def student_name(name_1,name_2,name_3,name_4):\n",
    "        print(name_1, name_2, name_3,name_4)\n",
    "\n",
    "\n",
    "student_object = Student.student_name(\"Bajrang\", \"Ruchika\",\"Bhupender\",\"Aakash\")\n",
    "\n",
    "#print(student_object)  # Will print the  names of students \n",
    "\n",
    "\"\"\" When you try to give 5th name as arguments it will show error lets check \n",
    "\"\"\"\n",
    "try:\n",
    "    student_object_2 = Student.student_name(\"Aakasj=h\",\"Anand\",\"Rahul\",\"Rupesh\",\"Praful\")\n",
    "except Exception as e:\n",
    "    print(e)\n"
   ]
  },
  {
   "cell_type": "code",
   "execution_count": 11,
   "metadata": {},
   "outputs": [
    {
     "name": "stdout",
     "output_type": "stream",
     "text": [
      "<class 'tuple'>\n",
      "<__main__.Student object at 0x0000020CA8D4EF20>\n",
      "Bajrang\n",
      "Rahul\n",
      "Jmaes Bond\n",
      "Babaji\n",
      "Singhji\n"
     ]
    }
   ],
   "source": [
    "# Using *args\n",
    "class Student():\n",
    "\n",
    "    #Creating Function which take *args as argument\n",
    "\n",
    "    def student_name(*args):  # Where args takes tuple as input or list but its type always give tuple\n",
    "        print(type(args))    # To check the type of args \n",
    "        for name in args:\n",
    "            print(name)\n",
    "\n",
    "\n",
    "name = [\"Bajrang\",\"Rahul\",\"Jmaes Bond\",\"Babaji\",\"Singhji\"]  # Taking list as args\n",
    "\n",
    "student_object = Student()\n",
    "student_object.student_name(*name)"
   ]
  },
  {
   "cell_type": "code",
   "execution_count": 16,
   "metadata": {},
   "outputs": [
    {
     "name": "stdout",
     "output_type": "stream",
     "text": [
      "<class 'tuple'>\n",
      "Name of the students are Bajrang, Rahul, Jmaes Bond, Babaji, Singhji. "
     ]
    }
   ],
   "source": [
    "# Using *args\n",
    "class Student():\n",
    "\n",
    "    #Creating Function which take *args as argument\n",
    "\n",
    "    def student_name(intro,*args):  # Where args takes tuple as input or list but its type always give tuple\n",
    "        print(type(args))    # To check the type of args \n",
    "        for name in args:\n",
    "            print(name, end=\" \")\n",
    "\n",
    "\n",
    "name = [\"Bajrang,\",\"Rahul,\",\"Jmaes Bond,\",\"Babaji,\",\"Singhji.\"]  # Taking list as args\n",
    "intro = \"Name of the students are\"\n",
    "student_object = Student()\n",
    "student_object.student_name(intro,*name)"
   ]
  },
  {
   "cell_type": "code",
   "execution_count": 24,
   "metadata": {},
   "outputs": [
    {
     "name": "stdout",
     "output_type": "stream",
     "text": [
      "<class 'tuple'>\n",
      "<class 'dict'>\n",
      "Name of the students are\n",
      "Bajrang,\n",
      "Rahul,\n",
      "Jmaes Bond,\n",
      "Babaji,\n",
      "Singhji.\n",
      "\n",
      "What are there skills?\n",
      "\n",
      "Bajrang is a Monitor\n",
      "Rahul is a Software Designer\n",
      "James Bond is a Agent\n",
      "Babaji is a Pandit\n",
      "Singhji is a Kulcha Wala\n"
     ]
    },
    {
     "data": {
      "text/plain": [
       "' Note syntax for taking arguments in function should be \"arg_1, *args, **kwargs\"\\n'"
      ]
     },
     "execution_count": 24,
     "metadata": {},
     "output_type": "execute_result"
    }
   ],
   "source": [
    "# Using kwargs\n",
    "# Using *args\n",
    "class Student():\n",
    "\n",
    "    #Creating Function which take **kwargs as argument\n",
    "\n",
    "    def student_name(intro,*args, **kwargs):  # Creating kwargs as  input\n",
    "        print(type(args))    # To check the type of args \n",
    "        print(type(kwargs)) \n",
    "        for name in args:\n",
    "            print(name)\n",
    "        print(\"\\nWhat are there skills?\\n\")\n",
    "        for key, value in kwargs.items():\n",
    "            print(f\"{key} is a {value}\")\n",
    "\n",
    "\n",
    "name = [\"Bajrang,\",\"Rahul,\",\"Jmaes Bond,\",\"Babaji,\",\"Singhji.\"]  # Taking list as args\n",
    "intro = \"Name of the students are\"\n",
    "\n",
    "skills = {\"Bajrang\":\"Monitor\",\"Rahul\": \"Software Designer\", \"James Bond\":\"Agent\", \"Babaji\":\"Pandit\",\"Singhji\": \"Kulcha Wala\"}\n",
    "student_object = Student()\n",
    "student_object.student_name(intro,*name,**skills)\n",
    "\n",
    "\n",
    "\"\"\" Note syntax for taking arguments in function should be \"arg_1, *args, **kwargs\"\n",
    "\"\"\"\n",
    "\n"
   ]
  },
  {
   "cell_type": "code",
   "execution_count": null,
   "metadata": {},
   "outputs": [],
   "source": []
  }
 ],
 "metadata": {
  "kernelspec": {
   "display_name": "Python 3",
   "language": "python",
   "name": "python3"
  },
  "language_info": {
   "codemirror_mode": {
    "name": "ipython",
    "version": 3
   },
   "file_extension": ".py",
   "mimetype": "text/x-python",
   "name": "python",
   "nbconvert_exporter": "python",
   "pygments_lexer": "ipython3",
   "version": "3.10.4 (tags/v3.10.4:9d38120, Mar 23 2022, 23:13:41) [MSC v.1929 64 bit (AMD64)]"
  },
  "orig_nbformat": 4,
  "vscode": {
   "interpreter": {
    "hash": "27f6fea6f47ae512550f0b8facdbd035a93e1dd89633f7bf2dd00a2502c71d0d"
   }
  }
 },
 "nbformat": 4,
 "nbformat_minor": 2
}
