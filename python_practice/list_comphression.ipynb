{
 "cells": [
  {
   "attachments": {},
   "cell_type": "markdown",
   "metadata": {},
   "source": [
    "# Comprehensions\n",
    "#### List Comphrehensions provides a way to create list , common applications are to generate results of some operation of each member  of another iterable"
   ]
  },
  {
   "cell_type": "code",
   "execution_count": 4,
   "metadata": {},
   "outputs": [
    {
     "name": "stdout",
     "output_type": "stream",
     "text": [
      "[(1, 4), (1, 3), (1, 6), (2, 4), (2, 3), (2, 6), (3, 4), (3, 6)]\n"
     ]
    }
   ],
   "source": [
    "# 1)Code without  using list comprehension\n",
    "\n",
    "pair = []\n",
    "for x in [1,2,3]:\n",
    "    for y in [4,3,6]:\n",
    "        if x != y:\n",
    "            pair.append((x,y))\n",
    "\n",
    "print(pair)\n"
   ]
  },
  {
   "cell_type": "code",
   "execution_count": 7,
   "metadata": {},
   "outputs": [
    {
     "name": "stdout",
     "output_type": "stream",
     "text": [
      "[(1, 4), (1, 3), (1, 6), (2, 4), (2, 3), (2, 6), (3, 4), (3, 6)]\n"
     ]
    }
   ],
   "source": [
    "# 1)Code with using list comprehension\n",
    "\n",
    "pair = [(x,y) for x in [1,2,3] for y in [4,3,6] if x != y]\n",
    "print(pair)"
   ]
  },
  {
   "cell_type": "code",
   "execution_count": 14,
   "metadata": {},
   "outputs": [
    {
     "name": "stdout",
     "output_type": "stream",
     "text": [
      "[[1, 6, 9], [8, 7, 6], [5, 4, 4]]\n"
     ]
    }
   ],
   "source": [
    "# 2)Code without  using Nested list comprehension\n",
    "\n",
    "matrix= [\n",
    "    [1, 8, 5 ],\n",
    "    [6, 7, 4 ],\n",
    "    [9, 6, 4 ]\n",
    "]\n",
    "pivot = []\n",
    "for i in  range(3):\n",
    "    inner_adjustment = []\n",
    "    for row in matrix:\n",
    "        inner_adjustment.append(row[i])\n",
    "    pivot.append(inner_adjustment)\n",
    "\n",
    "print(pivot)"
   ]
  },
  {
   "cell_type": "code",
   "execution_count": 13,
   "metadata": {},
   "outputs": [
    {
     "name": "stdout",
     "output_type": "stream",
     "text": [
      "[[1, 6, 9], [8, 7, 6], [5, 4, 4]]\n"
     ]
    }
   ],
   "source": [
    "# 2) Code with using Nested list comprehension\n",
    "\n",
    "matrix= [\n",
    "    [1, 8, 5 ],\n",
    "    [6, 7, 4 ],\n",
    "    [9, 6, 4 ]\n",
    "]\n",
    "\n",
    "pivot =[[row[i] for row in matrix] for i in range(3)]\n",
    "print(pivot)"
   ]
  },
  {
   "cell_type": "code",
   "execution_count": null,
   "metadata": {},
   "outputs": [],
   "source": []
  }
 ],
 "metadata": {
  "kernelspec": {
   "display_name": "Python 3",
   "language": "python",
   "name": "python3"
  },
  "language_info": {
   "codemirror_mode": {
    "name": "ipython",
    "version": 3
   },
   "file_extension": ".py",
   "mimetype": "text/x-python",
   "name": "python",
   "nbconvert_exporter": "python",
   "pygments_lexer": "ipython3",
   "version": "3.10.4 (tags/v3.10.4:9d38120, Mar 23 2022, 23:13:41) [MSC v.1929 64 bit (AMD64)]"
  },
  "orig_nbformat": 4,
  "vscode": {
   "interpreter": {
    "hash": "27f6fea6f47ae512550f0b8facdbd035a93e1dd89633f7bf2dd00a2502c71d0d"
   }
  }
 },
 "nbformat": 4,
 "nbformat_minor": 2
}
